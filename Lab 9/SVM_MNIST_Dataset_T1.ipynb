{
  "nbformat": 4,
  "nbformat_minor": 0,
  "metadata": {
    "colab": {
      "name": "SVM_MNIST_Dataset_T1.ipynb",
      "provenance": [],
      "collapsed_sections": []
    },
    "kernelspec": {
      "display_name": "Python 3 (ipykernel)",
      "language": "python",
      "name": "python3"
    },
    "language_info": {
      "codemirror_mode": {
        "name": "ipython",
        "version": 3
      },
      "file_extension": ".py",
      "mimetype": "text/x-python",
      "name": "python",
      "nbconvert_exporter": "python",
      "pygments_lexer": "ipython3",
      "version": "3.8.1"
    }
  },
  "cells": [
    {
      "cell_type": "markdown",
      "metadata": {
        "id": "f0-Qcj1XSGoh"
      },
      "source": [
        "**Assignment**:\n",
        "\n",
        "Try SVM classifier on MNIST dataset, compare the performance of linear, polynomial and RBF kernels.\n"
      ]
    },
    {
      "cell_type": "code",
      "metadata": {
        "id": "XSZNc2YkR_lk"
      },
      "source": [
        "import numpy as np\n",
        "import matplotlib.pyplot as plt\n",
        "from sklearn.svm import SVC\n",
        "from sklearn.model_selection import train_test_split"
      ],
      "execution_count": 1,
      "outputs": []
    },
    {
      "cell_type": "code",
      "metadata": {
        "colab": {
          "base_uri": "https://localhost:8080/"
        },
        "id": "DOTonxaMBVmk",
        "outputId": "2830f2f5-3a68-4702-acbe-eee8e6abe641"
      },
      "source": [
        "# Load MNIST Dataset\n",
        "from tensorflow.keras.datasets import mnist\n",
        "(X_train, y_train), (X_test, y_test) = mnist.load_data()"
      ],
      "execution_count": 2,
      "outputs": [
        {
          "output_type": "stream",
          "name": "stdout",
          "text": [
            "Downloading data from https://storage.googleapis.com/tensorflow/tf-keras-datasets/mnist.npz\n",
            "11493376/11490434 [==============================] - 0s 0us/step\n",
            "11501568/11490434 [==============================] - 0s 0us/step\n"
          ]
        }
      ]
    },
    {
      "cell_type": "code",
      "metadata": {
        "colab": {
          "base_uri": "https://localhost:8080/"
        },
        "id": "Vzl1LpVXDqrQ",
        "scrolled": true,
        "outputId": "c9122d06-2e14-4df0-954c-c6c0473535c4"
      },
      "source": [
        "# print the features\n",
        "print(X_train[:2])\n",
        "# print the labels\n",
        "print(y_train[:2])"
      ],
      "execution_count": 3,
      "outputs": [
        {
          "output_type": "stream",
          "name": "stdout",
          "text": [
            "[[[0 0 0 ... 0 0 0]\n",
            "  [0 0 0 ... 0 0 0]\n",
            "  [0 0 0 ... 0 0 0]\n",
            "  ...\n",
            "  [0 0 0 ... 0 0 0]\n",
            "  [0 0 0 ... 0 0 0]\n",
            "  [0 0 0 ... 0 0 0]]\n",
            "\n",
            " [[0 0 0 ... 0 0 0]\n",
            "  [0 0 0 ... 0 0 0]\n",
            "  [0 0 0 ... 0 0 0]\n",
            "  ...\n",
            "  [0 0 0 ... 0 0 0]\n",
            "  [0 0 0 ... 0 0 0]\n",
            "  [0 0 0 ... 0 0 0]]]\n",
            "[5 0]\n"
          ]
        }
      ]
    },
    {
      "cell_type": "code",
      "metadata": {
        "colab": {
          "base_uri": "https://localhost:8080/"
        },
        "id": "1rhgS6k3FTLh",
        "outputId": "263f7797-dfe3-46bf-c21c-9089083f8046"
      },
      "source": [
        "# Size of training and testing\n",
        "print('X_train : ', X_train.data.shape)\n",
        "print('y_train : ', y_train.data.shape)\n",
        "print('X_test : ', X_test.data.shape)\n",
        "print('y_test : ', y_test.data.shape)"
      ],
      "execution_count": 4,
      "outputs": [
        {
          "output_type": "stream",
          "name": "stdout",
          "text": [
            "X_train :  (60000, 28, 28)\n",
            "y_train :  (60000,)\n",
            "X_test :  (10000, 28, 28)\n",
            "y_test :  (10000,)\n"
          ]
        }
      ]
    },
    {
      "cell_type": "code",
      "metadata": {
        "id": "TLKbzQCyFTLi"
      },
      "source": [
        "# Working with sample_size as the dataset is large\n",
        "# Considering 10000 images and giving 8000 images to training and 2000 images to testing\n",
        "train_sample_size = 8000\n",
        "test_sample_size = 2000\n",
        "\n",
        "X_train = X_train[:train_sample_size]\n",
        "y_train = y_train[:train_sample_size]\n",
        "X_test = X_test[:test_sample_size]\n",
        "y_test = y_test[:test_sample_size]"
      ],
      "execution_count": 5,
      "outputs": []
    },
    {
      "cell_type": "code",
      "metadata": {
        "colab": {
          "base_uri": "https://localhost:8080/"
        },
        "id": "6JFCsY-fFTLj",
        "outputId": "50336fbd-3f6e-4595-d945-25a2e3179550"
      },
      "source": [
        "print('X_train : ', X_train.data.shape)\n",
        "print('y_train : ', y_train.data.shape)\n",
        "print('X_test : ', X_test.data.shape)\n",
        "print('y_test : ', y_test.data.shape)"
      ],
      "execution_count": 6,
      "outputs": [
        {
          "output_type": "stream",
          "name": "stdout",
          "text": [
            "X_train :  (8000, 28, 28)\n",
            "y_train :  (8000,)\n",
            "X_test :  (2000, 28, 28)\n",
            "y_test :  (2000,)\n"
          ]
        }
      ]
    },
    {
      "cell_type": "code",
      "metadata": {
        "id": "WgUXh4nBIY8c"
      },
      "source": [
        "# fit needs 2D array for training \n",
        "# So reshaping the numpy array from (sample_size, 28, 28) to (sample_size, 784)\n",
        "\n",
        "samples, x, y = X_train.shape\n",
        "X_train = X_train.reshape((samples, x*y))\n",
        "\n",
        "samples, x, y = X_test.shape\n",
        "X_test = X_test.reshape((samples, x*y))"
      ],
      "execution_count": 7,
      "outputs": []
    },
    {
      "cell_type": "markdown",
      "metadata": {
        "id": "g7YpFO2IBqzm"
      },
      "source": [
        "**Linear Kernel**"
      ]
    },
    {
      "cell_type": "code",
      "metadata": {
        "id": "QKjdqc-WBbKm"
      },
      "source": [
        "# Create a model with linear kernel\n",
        "# C - regularization (0-1)\n",
        "# gamma\n",
        "linearModel = SVC(kernel='linear')"
      ],
      "execution_count": 8,
      "outputs": []
    },
    {
      "cell_type": "code",
      "metadata": {
        "id": "FQgZ40RzI12N",
        "colab": {
          "base_uri": "https://localhost:8080/"
        },
        "outputId": "9089f34a-823d-4613-992c-d369cef602a0"
      },
      "source": [
        "# fit needs 2D array for training \n",
        "linearModel.fit(X_train, y_train)"
      ],
      "execution_count": 9,
      "outputs": [
        {
          "output_type": "execute_result",
          "data": {
            "text/plain": [
              "SVC(C=1.0, break_ties=False, cache_size=200, class_weight=None, coef0=0.0,\n",
              "    decision_function_shape='ovr', degree=3, gamma='scale', kernel='linear',\n",
              "    max_iter=-1, probability=False, random_state=None, shrinking=True,\n",
              "    tol=0.001, verbose=False)"
            ]
          },
          "metadata": {},
          "execution_count": 9
        }
      ]
    },
    {
      "cell_type": "code",
      "metadata": {
        "id": "ZLn6kfhOFa2n",
        "colab": {
          "base_uri": "https://localhost:8080/"
        },
        "outputId": "50e1b8bf-d13f-4ae7-c194-6931c9bfa73e"
      },
      "source": [
        "# Model analysis\n",
        "print('Linear kernel score : ', linearModel.score(X_test, y_test))"
      ],
      "execution_count": 10,
      "outputs": [
        {
          "output_type": "stream",
          "name": "stdout",
          "text": [
            "Linear kernel score :  0.887\n"
          ]
        }
      ]
    },
    {
      "cell_type": "markdown",
      "metadata": {
        "id": "JTkFpkn0CAU6"
      },
      "source": [
        "**Polynomial Kernel**"
      ]
    },
    {
      "cell_type": "code",
      "metadata": {
        "id": "_uRy0LIfCDV-"
      },
      "source": [
        "# Create a model with polynomial kernel\n",
        "polynomialModel = SVC(kernel='poly')"
      ],
      "execution_count": 11,
      "outputs": []
    },
    {
      "cell_type": "code",
      "metadata": {
        "id": "eUADPQjWLE61",
        "colab": {
          "base_uri": "https://localhost:8080/"
        },
        "outputId": "34b9e616-a5ea-46f0-83e5-04acbae4ed61"
      },
      "source": [
        "# fit needs 2D array for training \n",
        "polynomialModel.fit(X_train, y_train)"
      ],
      "execution_count": 12,
      "outputs": [
        {
          "output_type": "execute_result",
          "data": {
            "text/plain": [
              "SVC(C=1.0, break_ties=False, cache_size=200, class_weight=None, coef0=0.0,\n",
              "    decision_function_shape='ovr', degree=3, gamma='scale', kernel='poly',\n",
              "    max_iter=-1, probability=False, random_state=None, shrinking=True,\n",
              "    tol=0.001, verbose=False)"
            ]
          },
          "metadata": {},
          "execution_count": 12
        }
      ]
    },
    {
      "cell_type": "code",
      "metadata": {
        "id": "EhLh66bsLNlK",
        "colab": {
          "base_uri": "https://localhost:8080/"
        },
        "outputId": "7abce8b0-65bb-45de-a6d2-1d8a0f9497de"
      },
      "source": [
        "# Model analysis\n",
        "print('Polynomial kernel score : ', polynomialModel.score(X_test, y_test))"
      ],
      "execution_count": 13,
      "outputs": [
        {
          "output_type": "stream",
          "name": "stdout",
          "text": [
            "Polynomial kernel score :  0.9255\n"
          ]
        }
      ]
    },
    {
      "cell_type": "markdown",
      "metadata": {
        "id": "CKf5DzogCEwU"
      },
      "source": [
        "**RBF Kernel**"
      ]
    },
    {
      "cell_type": "code",
      "metadata": {
        "id": "3w4cht_9CHee"
      },
      "source": [
        "# Create a model with rbf kernel\n",
        "rbfModel = SVC(kernel='rbf')"
      ],
      "execution_count": 14,
      "outputs": []
    },
    {
      "cell_type": "code",
      "metadata": {
        "id": "SxdXEQymLOg5",
        "colab": {
          "base_uri": "https://localhost:8080/"
        },
        "outputId": "f9dee0ae-1a08-4a23-bc26-89d4ee38cbe3"
      },
      "source": [
        "# fit needs 2D array for training \n",
        "rbfModel.fit(X_train, y_train)"
      ],
      "execution_count": 15,
      "outputs": [
        {
          "output_type": "execute_result",
          "data": {
            "text/plain": [
              "SVC(C=1.0, break_ties=False, cache_size=200, class_weight=None, coef0=0.0,\n",
              "    decision_function_shape='ovr', degree=3, gamma='scale', kernel='rbf',\n",
              "    max_iter=-1, probability=False, random_state=None, shrinking=True,\n",
              "    tol=0.001, verbose=False)"
            ]
          },
          "metadata": {},
          "execution_count": 15
        }
      ]
    },
    {
      "cell_type": "code",
      "metadata": {
        "id": "63bmv9LtLl6Y",
        "colab": {
          "base_uri": "https://localhost:8080/"
        },
        "outputId": "4181de6d-0ee0-48ed-9bd8-d6ce07673033"
      },
      "source": [
        "# Model analysis\n",
        "print('Rbf kernel score : ', rbfModel.score(X_test, y_test))"
      ],
      "execution_count": 16,
      "outputs": [
        {
          "output_type": "stream",
          "name": "stdout",
          "text": [
            "Rbf kernel score :  0.942\n"
          ]
        }
      ]
    }
  ]
}