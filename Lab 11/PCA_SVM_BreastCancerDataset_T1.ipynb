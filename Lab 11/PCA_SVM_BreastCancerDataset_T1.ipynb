{
  "nbformat": 4,
  "nbformat_minor": 5,
  "metadata": {
    "kernelspec": {
      "display_name": "Python 3 (ipykernel)",
      "language": "python",
      "name": "python3"
    },
    "language_info": {
      "codemirror_mode": {
        "name": "ipython",
        "version": 3
      },
      "file_extension": ".py",
      "mimetype": "text/x-python",
      "name": "python",
      "nbconvert_exporter": "python",
      "pygments_lexer": "ipython3",
      "version": "3.8.1"
    },
    "colab": {
      "name": "PCA_SVM_BreastCancerDataset_T1.ipynb",
      "provenance": [],
      "collapsed_sections": []
    }
  },
  "cells": [
    {
      "cell_type": "markdown",
      "metadata": {
        "id": "3aa4d8dd"
      },
      "source": [
        "## Assignment: Perform SVM with PCA operation on Breast Cancer Dataset."
      ],
      "id": "3aa4d8dd"
    },
    {
      "cell_type": "code",
      "metadata": {
        "id": "10a0898e"
      },
      "source": [
        "# Import required libraries\n",
        "import sys, os\n",
        "import matplotlib.pyplot as plt\n",
        "from sklearn import svm\n",
        "from sklearn.model_selection import train_test_split\n",
        "import pandas as pd\n",
        "from sklearn import decomposition\n",
        "import numpy as np\n",
        "from sklearn import metrics\n",
        "from sklearn.pipeline import Pipeline"
      ],
      "id": "10a0898e",
      "execution_count": 1,
      "outputs": []
    },
    {
      "cell_type": "code",
      "metadata": {
        "colab": {
          "base_uri": "https://localhost:8080/"
        },
        "id": "9ab530cc",
        "outputId": "bfd01733-5a5c-4b37-91b8-20b637b5ffd0"
      },
      "source": [
        "# Loading breast cancer dataset\n",
        "from sklearn import datasets\n",
        "dataset = datasets.load_breast_cancer()\n",
        "dataset.data.shape"
      ],
      "id": "9ab530cc",
      "execution_count": 2,
      "outputs": [
        {
          "output_type": "execute_result",
          "data": {
            "text/plain": [
              "(569, 30)"
            ]
          },
          "metadata": {},
          "execution_count": 2
        }
      ]
    },
    {
      "cell_type": "code",
      "metadata": {
        "colab": {
          "base_uri": "https://localhost:8080/"
        },
        "id": "c2d8de13",
        "outputId": "e78998ff-5f31-4e92-b25f-cf7069ff688d"
      },
      "source": [
        "# Split the dataset into train and test\n",
        "df = pd.DataFrame(dataset.data,columns=dataset.feature_names)\n",
        "\n",
        "X_train, X_test, y_train, y_test = train_test_split(dataset.data, dataset.target, random_state=137)\n",
        "\n",
        "print(X_train.shape, X_test.shape)"
      ],
      "id": "c2d8de13",
      "execution_count": 3,
      "outputs": [
        {
          "output_type": "stream",
          "name": "stdout",
          "text": [
            "(426, 30) (143, 30)\n"
          ]
        }
      ]
    },
    {
      "cell_type": "code",
      "metadata": {
        "id": "a733077f"
      },
      "source": [
        "# Performing preprocessing using PCA and output of PCA is given to the SVM as we are using Pipeline\n",
        "clf = Pipeline([('pca', decomposition.PCA(n_components=20, whiten=True)),\n",
        "                ('svm', svm.LinearSVC(C=1.0))])\n",
        "\n",
        "clf.fit(X_train, y_train)\n",
        "\n",
        "y_pred = clf.predict(X_test)"
      ],
      "id": "a733077f",
      "execution_count": 4,
      "outputs": []
    },
    {
      "cell_type": "code",
      "metadata": {
        "colab": {
          "base_uri": "https://localhost:8080/"
        },
        "id": "aacb2ad1",
        "outputId": "f8d9f64f-b7bb-4e93-99cc-2aa3513345e8"
      },
      "source": [
        "# Confusion Matrix\n",
        "print(metrics.confusion_matrix(y_pred, y_test))\n",
        "plt.show()"
      ],
      "id": "aacb2ad1",
      "execution_count": 5,
      "outputs": [
        {
          "output_type": "stream",
          "name": "stdout",
          "text": [
            "[[54  4]\n",
            " [ 4 81]]\n"
          ]
        }
      ]
    },
    {
      "cell_type": "code",
      "metadata": {
        "colab": {
          "base_uri": "https://localhost:8080/"
        },
        "id": "9985b76f",
        "outputId": "fe36aab6-54b2-4672-9b3e-d34da0692bc3"
      },
      "source": [
        "# Generating Classification report\n",
        "print(metrics.classification_report(y_test, y_pred))"
      ],
      "id": "9985b76f",
      "execution_count": 6,
      "outputs": [
        {
          "output_type": "stream",
          "name": "stdout",
          "text": [
            "              precision    recall  f1-score   support\n",
            "\n",
            "           0       0.93      0.93      0.93        58\n",
            "           1       0.95      0.95      0.95        85\n",
            "\n",
            "    accuracy                           0.94       143\n",
            "   macro avg       0.94      0.94      0.94       143\n",
            "weighted avg       0.94      0.94      0.94       143\n",
            "\n"
          ]
        }
      ]
    }
  ]
}