{
  "nbformat": 4,
  "nbformat_minor": 0,
  "metadata": {
    "colab": {
      "name": "3_NB_Classifier_Exercise_Task_2.ipynb",
      "provenance": [],
      "collapsed_sections": []
    },
    "kernelspec": {
      "name": "python3",
      "display_name": "Python 3"
    },
    "language_info": {
      "name": "python"
    }
  },
  "cells": [
    {
      "cell_type": "code",
      "metadata": {
        "colab": {
          "base_uri": "https://localhost:8080/"
        },
        "id": "epX1ySjtS8rx",
        "outputId": "b0128efa-2a8e-4c15-9a8f-908b46d08b74"
      },
      "source": [
        "from google.colab import drive\n",
        "drive.mount('/content/drive')"
      ],
      "execution_count": 3,
      "outputs": [
        {
          "output_type": "stream",
          "text": [
            "Drive already mounted at /content/drive; to attempt to forcibly remount, call drive.mount(\"/content/drive\", force_remount=True).\n"
          ],
          "name": "stdout"
        }
      ]
    },
    {
      "cell_type": "markdown",
      "metadata": {
        "id": "TCyl6Krm42TW"
      },
      "source": [
        "#**Roll Number : CE137**"
      ]
    },
    {
      "cell_type": "markdown",
      "metadata": {
        "id": "0hQsR7DC56Kk"
      },
      "source": [
        " #Task 2: Apply algorithm on breast cancer wisconsin dataset - One Hot Encoding of features: and Train test Division 50%-50%"
      ]
    },
    {
      "cell_type": "code",
      "metadata": {
        "id": "4dbK3UA0WbzU"
      },
      "source": [
        "# Importing required libraries\n",
        "import numpy as np \n",
        "import pandas as pd\n",
        "from sklearn.preprocessing import LabelEncoder\n",
        "from sklearn.naive_bayes import GaussianNB\n",
        "from sklearn.metrics import accuracy_score, precision_score, recall_score, confusion_matrix"
      ],
      "execution_count": 28,
      "outputs": []
    },
    {
      "cell_type": "code",
      "metadata": {
        "id": "ZTy_v8k_7RJQ",
        "colab": {
          "base_uri": "https://localhost:8080/"
        },
        "outputId": "d16fefdb-b982-420e-cf9c-325a2c5934f3"
      },
      "source": [
        "# Loading dataset\n",
        "dataset = pd.read_csv('/content/drive/MyDrive/Colab Notebooks/ML-Lab/L3/Datasets/breast-cancer-wisconsin-dataset.csv') \n",
        "print(\"\\nData :\\n\", dataset)"
      ],
      "execution_count": 4,
      "outputs": [
        {
          "output_type": "stream",
          "text": [
            "\n",
            "Data :\n",
            "            id diagnosis  ...  fractal_dimension_worst  Unnamed: 32\n",
            "0      842302         M  ...                  0.11890          NaN\n",
            "1      842517         M  ...                  0.08902          NaN\n",
            "2    84300903         M  ...                  0.08758          NaN\n",
            "3    84348301         M  ...                  0.17300          NaN\n",
            "4    84358402         M  ...                  0.07678          NaN\n",
            "..        ...       ...  ...                      ...          ...\n",
            "564    926424         M  ...                  0.07115          NaN\n",
            "565    926682         M  ...                  0.06637          NaN\n",
            "566    926954         M  ...                  0.07820          NaN\n",
            "567    927241         M  ...                  0.12400          NaN\n",
            "568     92751         B  ...                  0.07039          NaN\n",
            "\n",
            "[569 rows x 33 columns]\n"
          ],
          "name": "stdout"
        }
      ]
    },
    {
      "cell_type": "markdown",
      "metadata": {
        "id": "V0-F_sSc_aMx"
      },
      "source": [
        "In the above dataset, all the feature values are numbers and the class label is diagnosis (either M or B values).\n",
        "\n",
        "So, there is no need of one hot encoding of features. \n",
        "\n",
        "But I have done label encoding of class labels to avoid ValueError pos_label in precision_score()."
      ]
    },
    {
      "cell_type": "code",
      "metadata": {
        "id": "4bDN5ewSAGHU"
      },
      "source": [
        "# prepare features set\n",
        "features = dataset.iloc[:, 2:-1].values\n",
        "# print(features)\n",
        "\n",
        "# label encoding\n",
        "le = LabelEncoder()\n",
        "target = le.fit_transform(dataset.iloc[:, 1].values)    # 1 - M, 0 - B\n",
        "# print(target)"
      ],
      "execution_count": 31,
      "outputs": []
    },
    {
      "cell_type": "code",
      "metadata": {
        "id": "AlJWIyJD7QzW"
      },
      "source": [
        "#import the necessary module\n",
        "from sklearn.model_selection import train_test_split\n",
        "\n",
        "#split data set into train and test sets\n",
        "data_train, data_test, target_train, target_test = train_test_split(features,\n",
        "                        target, test_size = 0.5, random_state = 137)"
      ],
      "execution_count": 32,
      "outputs": []
    },
    {
      "cell_type": "code",
      "metadata": {
        "colab": {
          "base_uri": "https://localhost:8080/"
        },
        "id": "e25JnW1P7XUI",
        "outputId": "cfac0361-919a-4bac-b447-fa52cd64efa7"
      },
      "source": [
        "# Training model\n",
        "model = GaussianNB()\n",
        "\n",
        "#Train the model using the training sets\n",
        "model.fit(data_train, target_train)"
      ],
      "execution_count": 33,
      "outputs": [
        {
          "output_type": "execute_result",
          "data": {
            "text/plain": [
              "GaussianNB(priors=None, var_smoothing=1e-09)"
            ]
          },
          "metadata": {
            "tags": []
          },
          "execution_count": 33
        }
      ]
    },
    {
      "cell_type": "code",
      "metadata": {
        "id": "5fk6oV9C7ZwT"
      },
      "source": [
        "# Testing model\n",
        "# Division train test is 50 : 50\n",
        "target_pred = model.predict(data_test)"
      ],
      "execution_count": 34,
      "outputs": []
    },
    {
      "cell_type": "code",
      "metadata": {
        "colab": {
          "base_uri": "https://localhost:8080/"
        },
        "id": "fOB7yxLV7b3L",
        "outputId": "31b65ad6-3a3f-4b81-a84d-d64881686b88"
      },
      "source": [
        "# Accuracy\n",
        "print(\"Accuracy: \", accuracy_score(target_test, target_pred))\n",
        "\n",
        "# Precision\n",
        "print(\"Precision: \", precision_score(target_test, target_pred))\n",
        "\n",
        "# Recall\n",
        "print(\"Recall: \", recall_score(target_test, target_pred))\n",
        "\n",
        "# Confusion matrix\n",
        "print(\"Confusion matrix: \")\n",
        "confusion_matrix(target_test, target_pred)"
      ],
      "execution_count": 36,
      "outputs": [
        {
          "output_type": "stream",
          "text": [
            "Accuracy:  0.9368421052631579\n",
            "Precision:  0.95\n",
            "Recall:  0.8796296296296297\n",
            "Confusion matrix: \n"
          ],
          "name": "stdout"
        },
        {
          "output_type": "execute_result",
          "data": {
            "text/plain": [
              "array([[172,   5],\n",
              "       [ 13,  95]])"
            ]
          },
          "metadata": {
            "tags": []
          },
          "execution_count": 36
        }
      ]
    }
  ]
}