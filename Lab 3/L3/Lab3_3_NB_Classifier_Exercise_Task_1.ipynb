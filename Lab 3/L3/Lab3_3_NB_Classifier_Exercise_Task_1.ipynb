{
  "nbformat": 4,
  "nbformat_minor": 0,
  "metadata": {
    "colab": {
      "name": "3_NB_Classifier_Exercise_Task_1.ipynb",
      "provenance": [],
      "collapsed_sections": [
        "TCyl6Krm42TW",
        "ByEmZLtjH2SG",
        "BAWu0_erH4zX"
      ]
    },
    "kernelspec": {
      "name": "python3",
      "display_name": "Python 3"
    },
    "language_info": {
      "name": "python"
    }
  },
  "cells": [
    {
      "cell_type": "markdown",
      "metadata": {
        "id": "TCyl6Krm42TW"
      },
      "source": [
        "#**Roll Number : CE137**\n"
      ]
    },
    {
      "cell_type": "markdown",
      "metadata": {
        "id": "0hQsR7DC56Kk"
      },
      "source": [
        " #Task 1: Try the algo on Dataset3 - LabelEncoding of features:and Train test Division 95%-5%\n",
        "\n",
        " Instruction for Task-1 & 2:\n",
        "\n",
        "i) Set Random state of model equals to your roll number (or last 2 digit of your id -if you don't have roll number)\n",
        "\n",
        "Questions: For Task - 1\n",
        "\n",
        "(1) What will be the value of Play, if Outlook is ’Rainy’, Temperature is ’Mild’, Humidity =’Normal’, and Wind = ’False’?\n",
        "\n",
        "(2) What will be the value of Play, if Outlook is ’Sunny’, Temeprature is ’Cool’, Humidity =’High’, and Wind = ’True’?\n",
        "\n",
        "(3) Accuracy , precision and recall of both Models?"
      ]
    },
    {
      "cell_type": "code",
      "metadata": {
        "colab": {
          "base_uri": "https://localhost:8080/"
        },
        "id": "epX1ySjtS8rx",
        "outputId": "9bbd3a97-34bb-4c30-b27b-a79bc3621f6f"
      },
      "source": [
        "from google.colab import drive\n",
        "drive.mount('/content/drive')"
      ],
      "execution_count": 2,
      "outputs": [
        {
          "output_type": "stream",
          "text": [
            "Drive already mounted at /content/drive; to attempt to forcibly remount, call drive.mount(\"/content/drive\", force_remount=True).\n"
          ],
          "name": "stdout"
        }
      ]
    },
    {
      "cell_type": "code",
      "metadata": {
        "id": "KRuft-qe6LaV"
      },
      "source": [
        "# Importing required libraries\n",
        "import numpy as np \n",
        "import pandas as pd\n",
        "from sklearn import preprocessing\n",
        "from sklearn.naive_bayes import GaussianNB, MultinomialNB\n",
        "from sklearn.metrics import accuracy_score, precision_score, recall_score, confusion_matrix"
      ],
      "execution_count": 3,
      "outputs": []
    },
    {
      "cell_type": "code",
      "metadata": {
        "id": "ZTy_v8k_7RJQ",
        "colab": {
          "base_uri": "https://localhost:8080/"
        },
        "outputId": "b9bc0e67-18d2-4d1d-8876-7e38f623b81a"
      },
      "source": [
        "# Loading dataset\n",
        "dataset = pd.read_csv('/content/drive/MyDrive/Colab Notebooks/ML-Lab/L3/Datasets/Dataset3.csv') \n",
        "print(\"\\nData :\\n\", dataset)"
      ],
      "execution_count": 4,
      "outputs": [
        {
          "output_type": "stream",
          "text": [
            "\n",
            "Data :\n",
            "    Outlook Temp Wind  Humidity  Class\n",
            "0        R    H    F         1      0\n",
            "1        R    H    T         2      0\n",
            "2        O    H    F         1      1\n",
            "3        R    M    F         1      1\n",
            "4        S    C    F         1      1\n",
            "5        O    C    T         0      0\n",
            "6        O    C    T         1      1\n",
            "7        R    M    F         1      0\n",
            "8        O    C    F         0      1\n",
            "9        S    M    F         2      1\n",
            "10       R    C    T         2      0\n",
            "11       O    M    T         0      1\n",
            "12       O    H    F         1      1\n",
            "13       S    M    T         1      0\n"
          ],
          "name": "stdout"
        }
      ]
    },
    {
      "cell_type": "code",
      "metadata": {
        "id": "99rddUZE7l1p"
      },
      "source": [
        "# Preparing columns for label encoding\n",
        "outlook = dataset[\"Outlook\"]\n",
        "temp = dataset[\"Temp\"]\n",
        "wind = dataset[\"Wind\"]\n",
        "humidity = dataset[\"Humidity\"]\n",
        "class_label = dataset[\"Class\"]\n",
        "\n",
        "# print(outlook)\n",
        "# print(temp)\n",
        "# print(wind)"
      ],
      "execution_count": 5,
      "outputs": []
    },
    {
      "cell_type": "code",
      "metadata": {
        "colab": {
          "base_uri": "https://localhost:8080/"
        },
        "id": "YRMnhgvo8nKq",
        "outputId": "3805c188-05be-4c5d-ee28-8f1cb9c52d74"
      },
      "source": [
        "# Label encoding\n",
        "le = preprocessing.LabelEncoder()\n",
        "\n",
        "outlook_encoded = le.fit_transform(outlook)\n",
        "print(\"Outlook:   \", outlook_encoded) # 1 - R, 0 - O, 2 - S\n",
        "\n",
        "temp_encoded = le.fit_transform(temp)\n",
        "print(\"Temp:      \", temp_encoded)    # 1 - H, 0 - C, 2 - M\n",
        "\n",
        "wind_encoded = le.fit_transform(wind)\n",
        "print(\"Wind:      \", wind_encoded)    # 1 - True, 0 - False\n",
        "\n",
        "humidity_encoded = le.fit_transform(humidity)\n",
        "print(\"Humidity : \", humidity_encoded)  # 1 - Normal, 2 - High, 0 - Low\n",
        "\n",
        "target = le.fit_transform(class_label)\n",
        "print(\"Class :    \", target)\n"
      ],
      "execution_count": 6,
      "outputs": [
        {
          "output_type": "stream",
          "text": [
            "Outlook:    [1 1 0 1 2 0 0 1 0 2 1 0 0 2]\n",
            "Temp:       [1 1 1 2 0 0 0 2 0 2 0 2 1 2]\n",
            "Wind:       [0 1 0 0 0 1 1 0 0 0 1 1 0 1]\n",
            "Humidity :  [1 2 1 1 1 0 1 1 0 2 2 0 1 1]\n",
            "Class :     [0 0 1 1 1 0 1 0 1 1 0 1 1 0]\n"
          ],
          "name": "stdout"
        }
      ]
    },
    {
      "cell_type": "code",
      "metadata": {
        "colab": {
          "base_uri": "https://localhost:8080/"
        },
        "id": "PVVKvOPX8o-0",
        "outputId": "a0dd0bde-14f2-46a5-8abc-770ba8dd97aa"
      },
      "source": [
        "# Merging label encoded features\n",
        "features = tuple(zip(outlook_encoded, temp_encoded, wind_encoded, humidity_encoded))\n",
        "print(\"Features: \", features)"
      ],
      "execution_count": 7,
      "outputs": [
        {
          "output_type": "stream",
          "text": [
            "Features:  ((1, 1, 0, 1), (1, 1, 1, 2), (0, 1, 0, 1), (1, 2, 0, 1), (2, 0, 0, 1), (0, 0, 1, 0), (0, 0, 1, 1), (1, 2, 0, 1), (0, 0, 0, 0), (2, 2, 0, 2), (1, 0, 1, 2), (0, 2, 1, 0), (0, 1, 0, 1), (2, 2, 1, 1))\n"
          ],
          "name": "stdout"
        }
      ]
    },
    {
      "cell_type": "code",
      "metadata": {
        "id": "BnyJ3M_EBGT3"
      },
      "source": [
        "#import the necessary module\n",
        "from sklearn.model_selection import train_test_split\n",
        "\n",
        "#split data set into train and test sets\n",
        "data_train, data_test, target_train, target_test = train_test_split(features,\n",
        "                        target, test_size = 0.05, random_state = 149)"
      ],
      "execution_count": 8,
      "outputs": []
    },
    {
      "cell_type": "markdown",
      "metadata": {
        "id": "ByEmZLtjH2SG"
      },
      "source": [
        "# Model 1 - Multinomial Naive Bayes"
      ]
    },
    {
      "cell_type": "code",
      "metadata": {
        "colab": {
          "base_uri": "https://localhost:8080/"
        },
        "id": "OxN-7RWxET8P",
        "outputId": "73ba769e-0493-4e0c-e56a-cbc79621b51e"
      },
      "source": [
        "# Let's train 1st model\n",
        "model1 = MultinomialNB()\n",
        "# Train the model using the training sets\n",
        "model1.fit(data_train, target_train)"
      ],
      "execution_count": 9,
      "outputs": [
        {
          "output_type": "execute_result",
          "data": {
            "text/plain": [
              "MultinomialNB(alpha=1.0, class_prior=None, fit_prior=True)"
            ]
          },
          "metadata": {
            "tags": []
          },
          "execution_count": 9
        }
      ]
    },
    {
      "cell_type": "code",
      "metadata": {
        "id": "X9kVTwl3Nd0v"
      },
      "source": [
        "# Testing model1\n",
        "# Division train test is 95 : 5\n",
        "target_pred_model1 = model1.predict(data_test)\n",
        "# print(data_test)\n",
        "# print(target_pred_model1)\n",
        "# print(target_test)"
      ],
      "execution_count": 10,
      "outputs": []
    },
    {
      "cell_type": "code",
      "metadata": {
        "colab": {
          "base_uri": "https://localhost:8080/"
        },
        "id": "MWVmH5GKGNgG",
        "outputId": "fd07cf48-758f-45f0-fee4-0fe46fcccc34"
      },
      "source": [
        "# 1st question\n",
        "predicted1 = model1.predict([[1,2,1,1]])    # 1:Rainy, 2: Mild, 1: Normal, 1: True\n",
        "print(\"Predicted Value:\", predicted1)"
      ],
      "execution_count": 11,
      "outputs": [
        {
          "output_type": "stream",
          "text": [
            "Predicted Value: [1]\n"
          ],
          "name": "stdout"
        }
      ]
    },
    {
      "cell_type": "code",
      "metadata": {
        "colab": {
          "base_uri": "https://localhost:8080/"
        },
        "id": "gL0xOyrnItUQ",
        "outputId": "c9cb479e-2dc1-4e86-b921-6947cdd8c135"
      },
      "source": [
        "# 2nd question\n",
        "predicted2 = model1.predict([[2,0,2,1]])    # 2:Sunny, 0:Cool, 2:High, 1:True\n",
        "print(\"Predicted Value:\", predicted2)"
      ],
      "execution_count": 12,
      "outputs": [
        {
          "output_type": "stream",
          "text": [
            "Predicted Value: [0]\n"
          ],
          "name": "stdout"
        }
      ]
    },
    {
      "cell_type": "code",
      "metadata": {
        "colab": {
          "base_uri": "https://localhost:8080/"
        },
        "id": "OIPqEbHWJzDr",
        "outputId": "fe24dc19-3653-4cf9-8b36-82b05544d568"
      },
      "source": [
        "# 3rd question\n",
        "\n",
        "# Accuracy\n",
        "print(\"Accuracy: \", accuracy_score(target_test, target_pred_model1))\n",
        "\n",
        "# Precision\n",
        "print(\"Precision: \", precision_score(target_test, target_pred_model1))\n",
        "\n",
        "# Recall\n",
        "print(\"Recall: \", recall_score(target_test, target_pred_model1))"
      ],
      "execution_count": 13,
      "outputs": [
        {
          "output_type": "stream",
          "text": [
            "Accuracy:  1.0\n",
            "Precision:  1.0\n",
            "Recall:  1.0\n"
          ],
          "name": "stdout"
        }
      ]
    },
    {
      "cell_type": "markdown",
      "metadata": {
        "id": "BAWu0_erH4zX"
      },
      "source": [
        "#Model 2 - Gaussian Naive Bayes"
      ]
    },
    {
      "cell_type": "code",
      "metadata": {
        "colab": {
          "base_uri": "https://localhost:8080/"
        },
        "id": "p2XsQfxACe8I",
        "outputId": "fe790f2f-be00-4057-fca2-1163b22921cc"
      },
      "source": [
        "# Let's train 2nd model\n",
        "model2 = GaussianNB()\n",
        "\n",
        "#Train the model using the training sets\n",
        "model2.fit(data_train, target_train)"
      ],
      "execution_count": 14,
      "outputs": [
        {
          "output_type": "execute_result",
          "data": {
            "text/plain": [
              "GaussianNB(priors=None, var_smoothing=1e-09)"
            ]
          },
          "metadata": {
            "tags": []
          },
          "execution_count": 14
        }
      ]
    },
    {
      "cell_type": "code",
      "metadata": {
        "id": "I6EZ-noyQSSG"
      },
      "source": [
        "# Testing model2\n",
        "# Division train test is 95 : 5\n",
        "target_pred_model2 = model2.predict(data_test)\n",
        "# print(data_test)\n",
        "# print(target_pred_model1)\n",
        "# print(target_test)"
      ],
      "execution_count": 15,
      "outputs": []
    },
    {
      "cell_type": "code",
      "metadata": {
        "colab": {
          "base_uri": "https://localhost:8080/"
        },
        "id": "ASvuJr4MCpMf",
        "outputId": "de7f796c-7850-4526-aa68-3259fa557721"
      },
      "source": [
        "# 1st question\n",
        "predicted3 = model2.predict([[1,2,1,1]])    # 1:Rainy, 2: Mild, 1: Normal, 1: True\n",
        "print(\"Predicted Value:\", predicted3)"
      ],
      "execution_count": 16,
      "outputs": [
        {
          "output_type": "stream",
          "text": [
            "Predicted Value: [0]\n"
          ],
          "name": "stdout"
        }
      ]
    },
    {
      "cell_type": "code",
      "metadata": {
        "colab": {
          "base_uri": "https://localhost:8080/"
        },
        "id": "t1oV0r_gQGN5",
        "outputId": "dd04d1ed-a0ef-42d5-aaa7-e0cd07d81123"
      },
      "source": [
        "# 2nd question\n",
        "predicted4 = model2.predict([[2,0,2,1]])    # 2:Sunny, 0:Cool, 2:High, 1:True\n",
        "print(\"Predicted Value:\", predicted4)"
      ],
      "execution_count": 17,
      "outputs": [
        {
          "output_type": "stream",
          "text": [
            "Predicted Value: [0]\n"
          ],
          "name": "stdout"
        }
      ]
    },
    {
      "cell_type": "code",
      "metadata": {
        "colab": {
          "base_uri": "https://localhost:8080/"
        },
        "id": "9X55kqenQIto",
        "outputId": "e6d4b230-e107-4d79-af08-39fb5f3af496"
      },
      "source": [
        "# 3rd question\n",
        "\n",
        "# Accuracy\n",
        "print(\"Accuracy: \", accuracy_score(target_test, target_pred_model2))\n",
        "\n",
        "# Precision\n",
        "print(\"Precision: \", precision_score(target_test, target_pred_model2))\n",
        "\n",
        "# Recall\n",
        "print(\"Recall: \", recall_score(target_test, target_pred_model2))"
      ],
      "execution_count": 18,
      "outputs": [
        {
          "output_type": "stream",
          "text": [
            "Accuracy:  1.0\n",
            "Precision:  1.0\n",
            "Recall:  1.0\n"
          ],
          "name": "stdout"
        }
      ]
    }
  ]
}